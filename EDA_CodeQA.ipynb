{
 "cells": [
  {
   "cell_type": "markdown",
   "id": "dad55e40",
   "metadata": {},
   "source": [
    "# Exploratory Data Analysis (EDA) on Code QA Dataset"
   ]
  },
  {
   "cell_type": "code",
   "execution_count": 1,
   "id": "a2d891e8",
   "metadata": {},
   "outputs": [],
   "source": [
    "# Import necessary libraries\n",
    "import pandas as pd\n",
    "import json\n",
    "import matplotlib.pyplot as plt\n",
    "import seaborn as sns"
   ]
  },
  {
   "cell_type": "code",
   "execution_count": 2,
   "id": "9f7d5e93",
   "metadata": {},
   "outputs": [
    {
     "data": {
      "text/html": [
       "<div>\n",
       "<style scoped>\n",
       "    .dataframe tbody tr th:only-of-type {\n",
       "        vertical-align: middle;\n",
       "    }\n",
       "\n",
       "    .dataframe tbody tr th {\n",
       "        vertical-align: top;\n",
       "    }\n",
       "\n",
       "    .dataframe thead th {\n",
       "        text-align: right;\n",
       "    }\n",
       "</style>\n",
       "<table border=\"1\" class=\"dataframe\">\n",
       "  <thead>\n",
       "    <tr style=\"text-align: right;\">\n",
       "      <th></th>\n",
       "      <th>code</th>\n",
       "      <th>question</th>\n",
       "      <th>answer</th>\n",
       "    </tr>\n",
       "  </thead>\n",
       "  <tbody>\n",
       "    <tr>\n",
       "      <th>0</th>\n",
       "      <td>def Make Suite From Dict d label None suite Su...</td>\n",
       "      <td>What does the code make ?</td>\n",
       "      <td>a suite</td>\n",
       "    </tr>\n",
       "    <tr>\n",
       "      <th>1</th>\n",
       "      <td>def Make Suite From Dict d label None suite Su...</td>\n",
       "      <td>Does the code make a suite ?</td>\n",
       "      <td>Yes</td>\n",
       "    </tr>\n",
       "    <tr>\n",
       "      <th>2</th>\n",
       "      <td>def receive message topic name subscription na...</td>\n",
       "      <td>Does the code receive a message from a pull su...</td>\n",
       "      <td>Yes</td>\n",
       "    </tr>\n",
       "    <tr>\n",
       "      <th>3</th>\n",
       "      <td>def receive message topic name subscription na...</td>\n",
       "      <td>What does the code receive from a pull subscri...</td>\n",
       "      <td>a message</td>\n",
       "    </tr>\n",
       "    <tr>\n",
       "      <th>4</th>\n",
       "      <td>def Create Shared Budget client budget service...</td>\n",
       "      <td>What be an explicit budget used only ?</td>\n",
       "      <td>to create the campaign</td>\n",
       "    </tr>\n",
       "  </tbody>\n",
       "</table>\n",
       "</div>"
      ],
      "text/plain": [
       "                                                code  \\\n",
       "0  def Make Suite From Dict d label None suite Su...   \n",
       "1  def Make Suite From Dict d label None suite Su...   \n",
       "2  def receive message topic name subscription na...   \n",
       "3  def receive message topic name subscription na...   \n",
       "4  def Create Shared Budget client budget service...   \n",
       "\n",
       "                                            question                  answer  \n",
       "0                          What does the code make ?                 a suite  \n",
       "1                       Does the code make a suite ?                     Yes  \n",
       "2  Does the code receive a message from a pull su...                     Yes  \n",
       "3  What does the code receive from a pull subscri...               a message  \n",
       "4             What be an explicit budget used only ?  to create the campaign  "
      ]
     },
     "execution_count": 2,
     "metadata": {},
     "output_type": "execute_result"
    }
   ],
   "source": [
    "# Load JSON data\n",
    "with open('CodeQA_dataset.json') as f:\n",
    "    data = json.load(f)\n",
    "\n",
    "# Convert to DataFrame\n",
    "df = pd.DataFrame(data)\n",
    "df.head()"
   ]
  },
  {
   "cell_type": "code",
   "execution_count": 3,
   "id": "5beeed03",
   "metadata": {},
   "outputs": [
    {
     "name": "stdout",
     "output_type": "stream",
     "text": [
      "Dataset Shape: (56085, 3)\n",
      "\n",
      "Column Types:\n",
      " code        object\n",
      "question    object\n",
      "answer      object\n",
      "dtype: object\n"
     ]
    }
   ],
   "source": [
    "# Basic structure\n",
    "print(\"Dataset Shape:\", df.shape)\n",
    "print(\"\\nColumn Types:\\n\", df.dtypes)"
   ]
  },
  {
   "cell_type": "code",
   "execution_count": 4,
   "id": "eae453e2",
   "metadata": {},
   "outputs": [
    {
     "data": {
      "text/plain": [
       "code        0\n",
       "question    0\n",
       "answer      0\n",
       "dtype: int64"
      ]
     },
     "execution_count": 4,
     "metadata": {},
     "output_type": "execute_result"
    }
   ],
   "source": [
    "# Check for missing values\n",
    "df.isnull().sum()"
   ]
  },
  {
   "cell_type": "code",
   "execution_count": 5,
   "id": "e0a1e5cb",
   "metadata": {},
   "outputs": [
    {
     "data": {
      "text/plain": [
       "code        33982\n",
       "question    33971\n",
       "answer      32425\n",
       "dtype: int64"
      ]
     },
     "execution_count": 5,
     "metadata": {},
     "output_type": "execute_result"
    }
   ],
   "source": [
    "# Unique values per column\n",
    "df.nunique()"
   ]
  },
  {
   "cell_type": "code",
   "execution_count": 6,
   "id": "c794cbf7",
   "metadata": {},
   "outputs": [
    {
     "data": {
      "text/plain": [
       "answer\n",
       "Yes                           501\n",
       "No                            393\n",
       "this                          305\n",
       "a string                      273\n",
       "decorator                     201\n",
       "                             ... \n",
       "in html                         1\n",
       "a powershell dsc module         1\n",
       "the index_in_children_list      1\n",
       "a scheme instance               1\n",
       "using the args                  1\n",
       "Name: count, Length: 32425, dtype: int64"
      ]
     },
     "execution_count": 6,
     "metadata": {},
     "output_type": "execute_result"
    }
   ],
   "source": [
    "# Value counts for the 'answer' column\n",
    "df['answer'].value_counts()"
   ]
  },
  {
   "cell_type": "code",
   "execution_count": 7,
   "id": "1d748d6d",
   "metadata": {},
   "outputs": [
    {
     "data": {
      "text/plain": [
       "count    56085.000000\n",
       "mean       299.190924\n",
       "std        240.250923\n",
       "min         12.000000\n",
       "25%        138.000000\n",
       "50%        242.000000\n",
       "75%        407.000000\n",
       "max      18297.000000\n",
       "Name: code_length, dtype: float64"
      ]
     },
     "execution_count": 7,
     "metadata": {},
     "output_type": "execute_result"
    }
   ],
   "source": [
    "# Length of code snippets\n",
    "df['code_length'] = df['code'].apply(len)\n",
    "df['code_length'].describe()"
   ]
  },
  {
   "cell_type": "code",
   "execution_count": 8,
   "id": "fbee0065",
   "metadata": {},
   "outputs": [
    {
     "name": "stderr",
     "output_type": "stream",
     "text": [
      "/Applications/anaconda3/lib/python3.11/site-packages/seaborn/_oldcore.py:1119: FutureWarning: use_inf_as_na option is deprecated and will be removed in a future version. Convert inf values to NaN before operating instead.\n",
      "  with pd.option_context('mode.use_inf_as_na', True):\n"
     ]
    },
    {
     "data": {
      "image/png": "[encoded data removed]",
      "text/plain": [
       "<Figure size 800x400 with 1 Axes>"
      ]
     },
     "metadata": {},
     "output_type": "display_data"
    }
   ],
   "source": [
    "# Plot distribution of code length\n",
    "plt.figure(figsize=(8, 4))\n",
    "sns.histplot(df['code_length'], bins=30, kde=True)\n",
    "plt.title('Distribution of Code Lengths')\n",
    "plt.xlabel('Code Length')\n",
    "plt.ylabel('Frequency')\n",
    "plt.tight_layout()\n",
    "plt.show()"
   ]
  },
  {
   "cell_type": "code",
   "execution_count": 9,
   "id": "38fd5233",
   "metadata": {},
   "outputs": [
    {
     "data": {
      "text/html": [
       "<div>\n",
       "<style scoped>\n",
       "    .dataframe tbody tr th:only-of-type {\n",
       "        vertical-align: middle;\n",
       "    }\n",
       "\n",
       "    .dataframe tbody tr th {\n",
       "        vertical-align: top;\n",
       "    }\n",
       "\n",
       "    .dataframe thead th {\n",
       "        text-align: right;\n",
       "    }\n",
       "</style>\n",
       "<table border=\"1\" class=\"dataframe\">\n",
       "  <thead>\n",
       "    <tr style=\"text-align: right;\">\n",
       "      <th></th>\n",
       "      <th>question_type</th>\n",
       "      <th>Percentage</th>\n",
       "    </tr>\n",
       "  </thead>\n",
       "  <tbody>\n",
       "    <tr>\n",
       "      <th>0</th>\n",
       "      <td>What</td>\n",
       "      <td>70.008024</td>\n",
       "    </tr>\n",
       "    <tr>\n",
       "      <th>1</th>\n",
       "      <td>How</td>\n",
       "      <td>11.798164</td>\n",
       "    </tr>\n",
       "    <tr>\n",
       "      <th>2</th>\n",
       "      <td>Where</td>\n",
       "      <td>5.796559</td>\n",
       "    </tr>\n",
       "    <tr>\n",
       "      <th>3</th>\n",
       "      <td>When</td>\n",
       "      <td>4.826602</td>\n",
       "    </tr>\n",
       "    <tr>\n",
       "      <th>4</th>\n",
       "      <td>For what purpose</td>\n",
       "      <td>3.822769</td>\n",
       "    </tr>\n",
       "    <tr>\n",
       "      <th>5</th>\n",
       "      <td>Other</td>\n",
       "      <td>2.196666</td>\n",
       "    </tr>\n",
       "    <tr>\n",
       "      <th>6</th>\n",
       "      <td>Yes/No</td>\n",
       "      <td>1.367567</td>\n",
       "    </tr>\n",
       "    <tr>\n",
       "      <th>7</th>\n",
       "      <td>Why</td>\n",
       "      <td>0.183650</td>\n",
       "    </tr>\n",
       "  </tbody>\n",
       "</table>\n",
       "</div>"
      ],
      "text/plain": [
       "      question_type  Percentage\n",
       "0              What   70.008024\n",
       "1               How   11.798164\n",
       "2             Where    5.796559\n",
       "3              When    4.826602\n",
       "4  For what purpose    3.822769\n",
       "5             Other    2.196666\n",
       "6            Yes/No    1.367567\n",
       "7               Why    0.183650"
      ]
     },
     "execution_count": 9,
     "metadata": {},
     "output_type": "execute_result"
    }
   ],
   "source": [
    "# Function to classify question types\n",
    "def classify_question_type(q):\n",
    "    q_lower = q.lower()\n",
    "    if q_lower.startswith(\"what\"):\n",
    "        return \"What\"\n",
    "    elif q_lower.startswith(\"how\"):\n",
    "        return \"How\"\n",
    "    elif q_lower.startswith(\"where\"):\n",
    "        return \"Where\"\n",
    "    elif q_lower.startswith(\"when\"):\n",
    "        return \"When\"\n",
    "    elif q_lower.startswith(\"why\"):\n",
    "        return \"Why\"\n",
    "    elif q_lower.startswith(\"for what purpose\"):\n",
    "        return \"For what purpose\"\n",
    "    elif q_lower.startswith(\"does\") or q_lower.startswith(\"do\") or q_lower.startswith(\"is\") or q_lower.startswith(\"are\") or q_lower.startswith(\"can\"):\n",
    "        return \"Yes/No\"\n",
    "    else:\n",
    "        return \"Other\"\n",
    "\n",
    "# Apply classification\n",
    "df['question_type'] = df['question'].apply(classify_question_type)\n",
    "\n",
    "# Compute percentages\n",
    "question_type_counts = df['question_type'].value_counts(normalize=True) * 100\n",
    "question_type_counts = question_type_counts.rename(\"Percentage\").reset_index().rename(columns={\"index\": \"Question Type\"})\n",
    "\n",
    "# Display table\n",
    "#import ace_tools as tools; tools.display_dataframe_to_user(name=\"Question Type Distribution\", dataframe=question_type_counts)\n",
    "\n",
    "# Also return the DataFrame for further inspection\n",
    "question_type_counts"
   ]
  },
  {
   "cell_type": "code",
   "execution_count": 10,
   "id": "ab8e3489",
   "metadata": {},
   "outputs": [
    {
     "name": "stdout",
     "output_type": "stream",
     "text": [
      "      question_type  Percentage\n",
      "0              What   70.008024\n",
      "1               How   11.798164\n",
      "2             Where    5.796559\n",
      "3              When    4.826602\n",
      "4  For what purpose    3.822769\n",
      "5             Other    2.196666\n",
      "6            Yes/No    1.367567\n",
      "7               Why    0.183650\n"
     ]
    }
   ],
   "source": [
    "print(question_type_counts)\n"
   ]
  },
  {
   "cell_type": "code",
   "execution_count": 11,
   "id": "e9cf383a",
   "metadata": {},
   "outputs": [
    {
     "name": "stdout",
     "output_type": "stream",
     "text": [
      "Index(['question_type', 'Percentage'], dtype='object')\n"
     ]
    }
   ],
   "source": [
    "# Check column names to make sure they are what we expect\n",
    "print(question_type_counts.columns)"
   ]
  },
  {
   "cell_type": "code",
   "execution_count": 13,
   "id": "e975ed5d",
   "metadata": {},
   "outputs": [
    {
     "data": {
      "image/png": "[encoded data removed]",
      "text/plain": [
       "<Figure size 1000x600 with 1 Axes>"
      ]
     },
     "metadata": {},
     "output_type": "display_data"
    }
   ],
   "source": [
    "\n",
    "\n",
    "# Rename columns if necessary (optional, only if names are wrong)\n",
    "# question_type_counts.columns = [\"Question Type\", \"Percentage\"]\n",
    "\n",
    "# Plot the distribution\n",
    "plt.figure(figsize=(10, 6))\n",
    "sns.barplot(data=question_type_counts, x=\"Percentage\", y=\"question_type\", color='steelblue')\n",
    "plt.title(\"Distribution of Question Types\")\n",
    "plt.xlabel(\"Percentage\")\n",
    "plt.ylabel(\"Question Type\")\n",
    "plt.xlim(0, 100)\n",
    "plt.tight_layout()\n",
    "plt.show()\n"
   ]
  },
  {
   "cell_type": "code",
   "execution_count": null,
   "id": "fb7dd8c1",
   "metadata": {},
   "outputs": [],
   "source": []
  }
 ],
 "metadata": {
  "kernelspec": {
   "display_name": "Python 3 (ipykernel)",
   "language": "python",
   "name": "python3"
  },
  "language_info": {
   "codemirror_mode": {
    "name": "ipython",
    "version": 3
   },
   "file_extension": ".py",
   "mimetype": "text/x-python",
   "name": "python",
   "nbconvert_exporter": "python",
   "pygments_lexer": "ipython3",
   "version": "3.11.4"
  }
 },
 "nbformat": 4,
 "nbformat_minor": 5
}
