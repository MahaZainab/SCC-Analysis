{
 "cells": [
  {
   "cell_type": "code",
   "execution_count": 1,
   "id": "aa9f3a3e",
   "metadata": {},
   "outputs": [],
   "source": [
    "import os\n",
    "import json\n",
    "import numpy as np\n",
    "from sklearn.feature_extraction.text import TfidfVectorizer\n",
    "from sklearn.metrics.pairwise import cosine_similarity\n",
    "from tqdm.notebook import tqdm\n",
    "from sklearn.preprocessing import normalize\n",
    "\n",
    "import ollama"
   ]
  },
  {
   "cell_type": "code",
   "execution_count": 2,
   "id": "298455eb",
   "metadata": {},
   "outputs": [],
   "source": [
    "def load_json_data(json_path):\n",
    "    with open(json_path, 'r', encoding='utf-8') as file:\n",
    "        return json.load(file)\n"
   ]
  },
  {
   "cell_type": "code",
   "execution_count": 3,
   "id": "75ba8612-cc3f-41a3-af93-1b5792affdb5",
   "metadata": {},
   "outputs": [],
   "source": [
    "def save_json_data(path, data):\n",
    "    with open(path, 'w', encoding='utf-8') as f:\n",
    "        json.dump(data, f, indent=2, ensure_ascii=False)"
   ]
  },
  {
   "cell_type": "code",
   "execution_count": 4,
   "id": "1e30a1bd",
   "metadata": {},
   "outputs": [],
   "source": [
    "# TF-IDF vector creation\n",
    "def create_tfidf_vectors_optimized(data):\n",
    "    for entry in data:\n",
    "        entry['tfidf_doc'] = entry['question'] + ' ' + entry['code']\n",
    "        entry['query_str'] = entry['code'] + '\\n' + entry['question']\n",
    "\n",
    "    documents = [entry['tfidf_doc'] for entry in data]\n",
    "    vectorizer = TfidfVectorizer(stop_words='english')\n",
    "    tfidf_matrix = vectorizer.fit_transform(documents)\n",
    "    normalized_matrix = normalize(tfidf_matrix)\n",
    "\n",
    "    return vectorizer, normalized_matrix"
   ]
  },
  {
   "cell_type": "code",
   "execution_count": 5,
   "id": "f362894c",
   "metadata": {},
   "outputs": [],
   "source": [
    "# Retrieve top documents by similarity\n",
    "def retrieve_top_documents_optimized(query, query_index, data, vectorizer, normalized_matrix, top_n=5):\n",
    "    query_vec = vectorizer.transform([query])\n",
    "    query_vec = normalize(query_vec)\n",
    "    similarities = (query_vec @ normalized_matrix.T).toarray().flatten()\n",
    "\n",
    "    #similarities[query_index] = -1  # exclude self\n",
    "\n",
    "    if np.any(similarities > 0):\n",
    "        top_k_indices = np.argpartition(-similarities, top_n)[:top_n]\n",
    "        top_k_indices = top_k_indices[np.argsort(-similarities[top_k_indices])]\n",
    "        return [data[i] for i in top_k_indices if similarities[i] > 0]\n",
    "    else:\n",
    "        return []"
   ]
  },
  {
   "cell_type": "code",
   "execution_count": 6,
   "id": "3d5ee424",
   "metadata": {},
   "outputs": [],
   "source": [
    "# ---- Config . Comment out the system model you want to use---- #\n",
    "\n",
    "SYSTEM_MODEL = 'llama3.1:8b'\n",
    "#SYSTEM_MODEL = 'codellama:7b'\n",
    "#SYSTEM_MODEL = 'mistral:7b'\n",
    "#SYSTEM_MODEL = 'deepseek-coder:6.7b'"
   ]
  },
  {
   "cell_type": "code",
   "execution_count": 7,
   "id": "32c05209",
   "metadata": {},
   "outputs": [],
   "source": [
    "def generate_response_with_chain_of_thought(query, documents):\n",
    "    context = ' '.join([f\"{doc['question']} Hence, {doc['answer']}.\" for doc in documents])\n",
    "    combined_input = f\"Question: {query}\\n\\nContext: {context}\\n\\nAnswer in one to five words only.\"\n",
    "\n",
    "    system_prompt = (\n",
    "        \"You are a code comprehension assistant. Your task is to analyze the code-related questions and the provided answers \"\n",
    "        \"from previous examples, reason based on those, and generate a concise response to the new question.\\n\"\n",
    "        \"- Base your answer strictly on the provided question-answer context.\\n\"\n",
    "        \"- Your response should be one to five words.\\n\"\n",
    "        \"- Do not include explanations or restate the question.\\n\"\n",
    "    )\n",
    "\n",
    "    response = ollama.chat(\n",
    "        model=SYSTEM_MODEL,\n",
    "        messages=[\n",
    "            {\"role\": \"system\", \"content\": system_prompt},\n",
    "            {\"role\": \"user\", \"content\": combined_input}\n",
    "        ]\n",
    "    )\n",
    "    return response['message']['content']\n"
   ]
  },
  {
   "cell_type": "code",
   "execution_count": 13,
   "id": "6fcf63d1-304e-430d-8f0b-de5b3d32bd46",
   "metadata": {},
   "outputs": [],
   "source": [
    "json_path = 'CodeQA_dataset.json'\n",
    "output_path = 'Llama3_CodeQA_predictions.json'\n",
    "\n",
    "data = load_json_data(json_path)\n",
    "vectorizer, normalized_matrix = create_tfidf_vectors_optimized(data)"
   ]
  },
  {
   "cell_type": "code",
   "execution_count": 14,
   "id": "5d16531d-b71f-4a21-8803-49cabb00159b",
   "metadata": {},
   "outputs": [
    {
     "ename": "ImportError",
     "evalue": "IProgress not found. Please update jupyter and ipywidgets. See https://ipywidgets.readthedocs.io/en/stable/user_install.html",
     "output_type": "error",
     "traceback": [
      "\u001b[1;31m---------------------------------------------------------------------------\u001b[0m",
      "\u001b[1;31mImportError\u001b[0m                               Traceback (most recent call last)",
      "Cell \u001b[1;32mIn[14], line 4\u001b[0m\n\u001b[0;32m      1\u001b[0m updated_data \u001b[38;5;241m=\u001b[39m []\n\u001b[0;32m      2\u001b[0m save_every \u001b[38;5;241m=\u001b[39m \u001b[38;5;241m25\u001b[39m\n\u001b[1;32m----> 4\u001b[0m \u001b[38;5;28;01mfor\u001b[39;00m i, entry \u001b[38;5;129;01min\u001b[39;00m \u001b[38;5;28menumerate\u001b[39m(\u001b[43mtqdm\u001b[49m\u001b[43m(\u001b[49m\u001b[43mdata\u001b[49m\u001b[43m,\u001b[49m\u001b[43m \u001b[49m\u001b[43mdesc\u001b[49m\u001b[38;5;241;43m=\u001b[39;49m\u001b[38;5;124;43m'\u001b[39;49m\u001b[38;5;124;43mGenerating predictions\u001b[39;49m\u001b[38;5;124;43m'\u001b[39;49m\u001b[43m)\u001b[49m):\n\u001b[0;32m      5\u001b[0m     query \u001b[38;5;241m=\u001b[39m entry[\u001b[38;5;124m'\u001b[39m\u001b[38;5;124mquery_str\u001b[39m\u001b[38;5;124m'\u001b[39m]\n\u001b[0;32m      7\u001b[0m     relevant_docs \u001b[38;5;241m=\u001b[39m retrieve_top_documents_optimized(\n\u001b[0;32m      8\u001b[0m         query\u001b[38;5;241m=\u001b[39mquery,\n\u001b[0;32m      9\u001b[0m         query_index\u001b[38;5;241m=\u001b[39mi,\n\u001b[1;32m   (...)\u001b[0m\n\u001b[0;32m     13\u001b[0m         top_n\u001b[38;5;241m=\u001b[39m\u001b[38;5;241m5\u001b[39m\n\u001b[0;32m     14\u001b[0m     )\n",
      "File \u001b[1;32m~\\AppData\\Roaming\\Python\\Python312\\site-packages\\tqdm\\notebook.py:234\u001b[0m, in \u001b[0;36mtqdm_notebook.__init__\u001b[1;34m(self, *args, **kwargs)\u001b[0m\n\u001b[0;32m    232\u001b[0m unit_scale \u001b[38;5;241m=\u001b[39m \u001b[38;5;241m1\u001b[39m \u001b[38;5;28;01mif\u001b[39;00m \u001b[38;5;28mself\u001b[39m\u001b[38;5;241m.\u001b[39munit_scale \u001b[38;5;129;01mis\u001b[39;00m \u001b[38;5;28;01mTrue\u001b[39;00m \u001b[38;5;28;01melse\u001b[39;00m \u001b[38;5;28mself\u001b[39m\u001b[38;5;241m.\u001b[39munit_scale \u001b[38;5;129;01mor\u001b[39;00m \u001b[38;5;241m1\u001b[39m\n\u001b[0;32m    233\u001b[0m total \u001b[38;5;241m=\u001b[39m \u001b[38;5;28mself\u001b[39m\u001b[38;5;241m.\u001b[39mtotal \u001b[38;5;241m*\u001b[39m unit_scale \u001b[38;5;28;01mif\u001b[39;00m \u001b[38;5;28mself\u001b[39m\u001b[38;5;241m.\u001b[39mtotal \u001b[38;5;28;01melse\u001b[39;00m \u001b[38;5;28mself\u001b[39m\u001b[38;5;241m.\u001b[39mtotal\n\u001b[1;32m--> 234\u001b[0m \u001b[38;5;28mself\u001b[39m\u001b[38;5;241m.\u001b[39mcontainer \u001b[38;5;241m=\u001b[39m \u001b[38;5;28;43mself\u001b[39;49m\u001b[38;5;241;43m.\u001b[39;49m\u001b[43mstatus_printer\u001b[49m\u001b[43m(\u001b[49m\u001b[38;5;28;43mself\u001b[39;49m\u001b[38;5;241;43m.\u001b[39;49m\u001b[43mfp\u001b[49m\u001b[43m,\u001b[49m\u001b[43m \u001b[49m\u001b[43mtotal\u001b[49m\u001b[43m,\u001b[49m\u001b[43m \u001b[49m\u001b[38;5;28;43mself\u001b[39;49m\u001b[38;5;241;43m.\u001b[39;49m\u001b[43mdesc\u001b[49m\u001b[43m,\u001b[49m\u001b[43m \u001b[49m\u001b[38;5;28;43mself\u001b[39;49m\u001b[38;5;241;43m.\u001b[39;49m\u001b[43mncols\u001b[49m\u001b[43m)\u001b[49m\n\u001b[0;32m    235\u001b[0m \u001b[38;5;28mself\u001b[39m\u001b[38;5;241m.\u001b[39mcontainer\u001b[38;5;241m.\u001b[39mpbar \u001b[38;5;241m=\u001b[39m proxy(\u001b[38;5;28mself\u001b[39m)\n\u001b[0;32m    236\u001b[0m \u001b[38;5;28mself\u001b[39m\u001b[38;5;241m.\u001b[39mdisplayed \u001b[38;5;241m=\u001b[39m \u001b[38;5;28;01mFalse\u001b[39;00m\n",
      "File \u001b[1;32m~\\AppData\\Roaming\\Python\\Python312\\site-packages\\tqdm\\notebook.py:108\u001b[0m, in \u001b[0;36mtqdm_notebook.status_printer\u001b[1;34m(_, total, desc, ncols)\u001b[0m\n\u001b[0;32m     99\u001b[0m \u001b[38;5;66;03m# Fallback to text bar if there's no total\u001b[39;00m\n\u001b[0;32m    100\u001b[0m \u001b[38;5;66;03m# DEPRECATED: replaced with an 'info' style bar\u001b[39;00m\n\u001b[0;32m    101\u001b[0m \u001b[38;5;66;03m# if not total:\u001b[39;00m\n\u001b[1;32m   (...)\u001b[0m\n\u001b[0;32m    105\u001b[0m \n\u001b[0;32m    106\u001b[0m \u001b[38;5;66;03m# Prepare IPython progress bar\u001b[39;00m\n\u001b[0;32m    107\u001b[0m \u001b[38;5;28;01mif\u001b[39;00m IProgress \u001b[38;5;129;01mis\u001b[39;00m \u001b[38;5;28;01mNone\u001b[39;00m:  \u001b[38;5;66;03m# #187 #451 #558 #872\u001b[39;00m\n\u001b[1;32m--> 108\u001b[0m     \u001b[38;5;28;01mraise\u001b[39;00m \u001b[38;5;167;01mImportError\u001b[39;00m(WARN_NOIPYW)\n\u001b[0;32m    109\u001b[0m \u001b[38;5;28;01mif\u001b[39;00m total:\n\u001b[0;32m    110\u001b[0m     pbar \u001b[38;5;241m=\u001b[39m IProgress(\u001b[38;5;28mmin\u001b[39m\u001b[38;5;241m=\u001b[39m\u001b[38;5;241m0\u001b[39m, \u001b[38;5;28mmax\u001b[39m\u001b[38;5;241m=\u001b[39mtotal)\n",
      "\u001b[1;31mImportError\u001b[0m: IProgress not found. Please update jupyter and ipywidgets. See https://ipywidgets.readthedocs.io/en/stable/user_install.html"
     ]
    }
   ],
   "source": [
    "updated_data = []\n",
    "save_every = 25\n",
    "\n",
    "for i, entry in enumerate(tqdm(data, desc='Generating predictions')):\n",
    "    query = entry['query_str']\n",
    "\n",
    "    relevant_docs = retrieve_top_documents_optimized(\n",
    "        query=query,\n",
    "        query_index=i,\n",
    "        data=data,\n",
    "        vectorizer=vectorizer,\n",
    "        normalized_matrix=normalized_matrix,\n",
    "        top_n=5\n",
    "    )\n",
    "\n",
    "    if not relevant_docs:\n",
    "        prediction = 'No relevant documents found.'\n",
    "    else:\n",
    "        try:\n",
    "            prediction = generate_response_with_chain_of_thought(query, relevant_docs)\n",
    "        except Exception as e:\n",
    "            prediction = f'Error: {str(e)}'\n",
    "\n",
    "    entry['prediction'] = prediction\n",
    "    clean_entry = {\n",
    "        \"code\": entry[\"code\"],\n",
    "        \"question\": entry[\"question\"],\n",
    "        \"answer\": entry[\"answer\"],\n",
    "        \"prediction\": prediction\n",
    "    }\n",
    "    updated_data.append(clean_entry)\n",
    "   \n",
    "\n",
    "    if (i + 1) % save_every == 0 or (i + 1) == len(data):\n",
    "        try:\n",
    "            save_json_data(output_path, updated_data)\n",
    "        except Exception as e:\n",
    "            print(f\"Warning: Failed to save at entry {i + 1}: {str(e)}\")\n",
    "\n",
    "# Final save\n",
    "save_json_data(output_path, updated_data)\n",
    "print(f\"\\n Predictions saved to: {output_path}\")\n"
   ]
  },
  {
   "cell_type": "code",
   "execution_count": null,
   "id": "8f91b88b-2e24-42cc-97e0-bea235bd4444",
   "metadata": {},
   "outputs": [],
   "source": [
    "\n"
   ]
  },
  {
   "cell_type": "code",
   "execution_count": null,
   "id": "28d7660a",
   "metadata": {},
   "outputs": [],
   "source": []
  }
 ],
 "metadata": {
  "kernelspec": {
   "display_name": "Python 3",
   "language": "python",
   "name": "python3"
  },
  "language_info": {
   "codemirror_mode": {
    "name": "ipython",
    "version": 3
   },
   "file_extension": ".py",
   "mimetype": "text/x-python",
   "name": "python",
   "nbconvert_exporter": "python",
   "pygments_lexer": "ipython3",
   "version": "3.12.5"
  }
 },
 "nbformat": 4,
 "nbformat_minor": 5
}
