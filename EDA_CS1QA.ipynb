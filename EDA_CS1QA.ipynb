{
 "cells": [
  {
   "cell_type": "markdown",
   "metadata": {
    "id": "RmNoSxwvzEJm"
   },
   "source": [
    "# Exploratory Data Analysis (EDA) on CS1QA Dataset"
   ]
  },
  {
   "cell_type": "code",
   "execution_count": 1,
   "metadata": {
    "id": "0VlNdAEozIdZ"
   },
   "outputs": [],
   "source": [
    "import pandas as pd\n",
    "import json\n",
    "import matplotlib.pyplot as plt\n",
    "import seaborn as sns"
   ]
  },
  {
   "cell_type": "code",
   "execution_count": 2,
   "metadata": {
    "colab": {
     "base_uri": "https://localhost:8080/",
     "height": 206
    },
    "id": "c-P142nczLXV",
    "outputId": "e7f0535a-37fb-4ee4-8c02-40604f609938"
   },
   "outputs": [
    {
     "data": {
      "text/html": [
       "<div>\n",
       "<style scoped>\n",
       "    .dataframe tbody tr th:only-of-type {\n",
       "        vertical-align: middle;\n",
       "    }\n",
       "\n",
       "    .dataframe tbody tr th {\n",
       "        vertical-align: top;\n",
       "    }\n",
       "\n",
       "    .dataframe thead th {\n",
       "        text-align: right;\n",
       "    }\n",
       "</style>\n",
       "<table border=\"1\" class=\"dataframe\">\n",
       "  <thead>\n",
       "    <tr style=\"text-align: right;\">\n",
       "      <th></th>\n",
       "      <th>code</th>\n",
       "      <th>question</th>\n",
       "      <th>questionType</th>\n",
       "      <th>answer</th>\n",
       "    </tr>\n",
       "  </thead>\n",
       "  <tbody>\n",
       "    <tr>\n",
       "      <th>0</th>\n",
       "      <td>from cs1robots import * load_world('worlds/har...</td>\n",
       "      <td>Please briefly explain the algorithm how you w...</td>\n",
       "      <td>code_explain</td>\n",
       "      <td>To pick up the ball\\nWrite the process of pick...</td>\n",
       "    </tr>\n",
       "    <tr>\n",
       "      <th>1</th>\n",
       "      <td>from cs1robots import* create_world() hubo=Rob...</td>\n",
       "      <td>Yes, in zigzag, Hubo is looking to the right a...</td>\n",
       "      <td>task</td>\n",
       "      <td>Yes it's okay!</td>\n",
       "    </tr>\n",
       "    <tr>\n",
       "      <th>2</th>\n",
       "      <td>from math import * from cs1media import * #new...</td>\n",
       "      <td>Then, should I create a function for both vert...</td>\n",
       "      <td>task</td>\n",
       "      <td>Whether it is a function or an if statement, y...</td>\n",
       "    </tr>\n",
       "    <tr>\n",
       "      <th>3</th>\n",
       "      <td>f=open(\"average-latitude-longitude-countries.c...</td>\n",
       "      <td>I fixed the first error, but I'm not sure wher...</td>\n",
       "      <td>error</td>\n",
       "      <td>If the list1 and 2 printed earlier are correct...</td>\n",
       "    </tr>\n",
       "    <tr>\n",
       "      <th>4</th>\n",
       "      <td>from cs1graphics import * from time import sle...</td>\n",
       "      <td>Is it possible to include other layers in a la...</td>\n",
       "      <td>usage</td>\n",
       "      <td>You can have as many sub layers as you need</td>\n",
       "    </tr>\n",
       "  </tbody>\n",
       "</table>\n",
       "</div>"
      ],
      "text/plain": [
       "                                                code  \\\n",
       "0  from cs1robots import * load_world('worlds/har...   \n",
       "1  from cs1robots import* create_world() hubo=Rob...   \n",
       "2  from math import * from cs1media import * #new...   \n",
       "3  f=open(\"average-latitude-longitude-countries.c...   \n",
       "4  from cs1graphics import * from time import sle...   \n",
       "\n",
       "                                            question  questionType  \\\n",
       "0  Please briefly explain the algorithm how you w...  code_explain   \n",
       "1  Yes, in zigzag, Hubo is looking to the right a...          task   \n",
       "2  Then, should I create a function for both vert...          task   \n",
       "3  I fixed the first error, but I'm not sure wher...         error   \n",
       "4  Is it possible to include other layers in a la...         usage   \n",
       "\n",
       "                                              answer  \n",
       "0  To pick up the ball\\nWrite the process of pick...  \n",
       "1                                     Yes it's okay!  \n",
       "2  Whether it is a function or an if statement, y...  \n",
       "3  If the list1 and 2 printed earlier are correct...  \n",
       "4        You can have as many sub layers as you need  "
      ]
     },
     "execution_count": 2,
     "metadata": {},
     "output_type": "execute_result"
    }
   ],
   "source": [
    "# Load JSON data\n",
    "with open('CS1QA_dataset.json') as f:\n",
    "    data = json.load(f)\n",
    "\n",
    "# Convert to DataFrame\n",
    "df = pd.DataFrame(data)\n",
    "df.head()"
   ]
  },
  {
   "cell_type": "code",
   "execution_count": 3,
   "metadata": {
    "colab": {
     "base_uri": "https://localhost:8080/"
    },
    "id": "YVQ6q7c5zX7C",
    "outputId": "8de3f644-bb81-4621-8128-77a234c52b64"
   },
   "outputs": [
    {
     "name": "stdout",
     "output_type": "stream",
     "text": [
      "Dataset Shape: (5543, 4)\n",
      "\n",
      "Column Types:\n",
      " code            object\n",
      "question        object\n",
      "questionType    object\n",
      "answer          object\n",
      "dtype: object\n"
     ]
    }
   ],
   "source": [
    "# Basic structure\n",
    "print(\"Dataset Shape:\", df.shape)\n",
    "print(\"\\nColumn Types:\\n\", df.dtypes)"
   ]
  },
  {
   "cell_type": "code",
   "execution_count": 4,
   "metadata": {
    "colab": {
     "base_uri": "https://localhost:8080/",
     "height": 210
    },
    "id": "4Gw29alUzZqY",
    "outputId": "45fcca07-3196-4c24-8e13-4ea71a6f75f5"
   },
   "outputs": [
    {
     "data": {
      "text/plain": [
       "code            0\n",
       "question        0\n",
       "questionType    0\n",
       "answer          0\n",
       "dtype: int64"
      ]
     },
     "execution_count": 4,
     "metadata": {},
     "output_type": "execute_result"
    }
   ],
   "source": [
    "# Check for missing values\n",
    "df.isnull().sum()"
   ]
  },
  {
   "cell_type": "code",
   "execution_count": 5,
   "metadata": {
    "colab": {
     "base_uri": "https://localhost:8080/",
     "height": 210
    },
    "id": "WONsQk8xzcuK",
    "outputId": "f5e11da2-3d75-4623-98ee-bd107a6db715"
   },
   "outputs": [
    {
     "data": {
      "text/plain": [
       "code            2631\n",
       "question        2575\n",
       "questionType       9\n",
       "answer          2706\n",
       "dtype: int64"
      ]
     },
     "execution_count": 5,
     "metadata": {},
     "output_type": "execute_result"
    }
   ],
   "source": [
    "# Unique values per column\n",
    "df.nunique()"
   ]
  },
  {
   "cell_type": "code",
   "execution_count": 6,
   "metadata": {
    "colab": {
     "base_uri": "https://localhost:8080/",
     "height": 507
    },
    "id": "Mu-ULXWVzeUu",
    "outputId": "2e5e7898-a267-4262-a0cf-78d94cbabcb9"
   },
   "outputs": [
    {
     "data": {
      "text/plain": [
       "answer\n",
       "Yeah                                                                                                                                                                                                                                                         44\n",
       "Yep                                                                                                                                                                                                                                                          18\n",
       "Yes, it is                                                                                                                                                                                                                                                   14\n",
       "Yes, that's right                                                                                                                                                                                                                                            10\n",
       "Yes Yes                                                                                                                                                                                                                                                       8\n",
       "                                                                                                                                                                                                                                                             ..\n",
       "Yes, you can do it yourself no matter how you implement it.                                                                                                                                                                                                   1\n",
       "You can use following command load_world('worlds/hurdles1.wld') and make sure you removed create_world() !                                                                                                                                                    1\n",
       "I'll explain it right away in the code window                                                                                                                                                                                                                 1\n",
       "The terminal you are looking at is actually a virtualization server terminal running through a server.It's only allowed inside the Python shell, but calling sys.exit() will pass the remote user's privileges, so it's okay to say that an error occurs.     1\n",
       "I removed the first line from 5, and it seems that there was a mistake in the correction process for 21 and 22                                                                                                                                                1\n",
       "Name: count, Length: 2706, dtype: int64"
      ]
     },
     "execution_count": 6,
     "metadata": {},
     "output_type": "execute_result"
    }
   ],
   "source": [
    "# Value counts for the 'answer' column\n",
    "df['answer'].value_counts()"
   ]
  },
  {
   "cell_type": "code",
   "execution_count": 7,
   "metadata": {
    "colab": {
     "base_uri": "https://localhost:8080/",
     "height": 335
    },
    "id": "mOL7rXnkzesb",
    "outputId": "eae8a07b-4c0f-4268-da89-cb3ee780c8b8"
   },
   "outputs": [
    {
     "data": {
      "text/plain": [
       "count     5543.000000\n",
       "mean      1672.243731\n",
       "std       1568.049153\n",
       "min         18.000000\n",
       "25%        517.000000\n",
       "50%        943.000000\n",
       "75%       2636.000000\n",
       "max      15333.000000\n",
       "Name: code_length, dtype: float64"
      ]
     },
     "execution_count": 7,
     "metadata": {},
     "output_type": "execute_result"
    }
   ],
   "source": [
    "# Length of code snippets\n",
    "df['code_length'] = df['code'].apply(len)\n",
    "df['code_length'].describe()"
   ]
  },
  {
   "cell_type": "code",
   "execution_count": 8,
   "metadata": {
    "colab": {
     "base_uri": "https://localhost:8080/",
     "height": 407
    },
    "id": "8Tx-j3E0zgWq",
    "outputId": "1efd3683-0696-422d-895b-8afbe32ee063"
   },
   "outputs": [
    {
     "name": "stderr",
     "output_type": "stream",
     "text": [
      "/Applications/anaconda3/lib/python3.11/site-packages/seaborn/_oldcore.py:1119: FutureWarning: use_inf_as_na option is deprecated and will be removed in a future version. Convert inf values to NaN before operating instead.\n",
      "  with pd.option_context('mode.use_inf_as_na', True):\n"
     ]
    },
    {
     "data": {
      "image/png": "[encoded data removed]",
      "text/plain": [
       "<Figure size 800x400 with 1 Axes>"
      ]
     },
     "metadata": {},
     "output_type": "display_data"
    }
   ],
   "source": [
    "# Plot distribution of code length\n",
    "plt.figure(figsize=(8, 4))\n",
    "sns.histplot(df['code_length'], bins=30, kde=True)\n",
    "plt.title('Distribution of Code Lengths')\n",
    "plt.xlabel('Code Length')\n",
    "plt.ylabel('Frequency')\n",
    "plt.tight_layout()\n",
    "plt.show()"
   ]
  },
  {
   "cell_type": "code",
   "execution_count": 9,
   "metadata": {
    "colab": {
     "base_uri": "https://localhost:8080/",
     "height": 332
    },
    "id": "K-sXtXfSziM3",
    "outputId": "61155d5e-41dd-4162-cd67-f5374be5e272"
   },
   "outputs": [
    {
     "data": {
      "text/html": [
       "<div>\n",
       "<style scoped>\n",
       "    .dataframe tbody tr th:only-of-type {\n",
       "        vertical-align: middle;\n",
       "    }\n",
       "\n",
       "    .dataframe tbody tr th {\n",
       "        vertical-align: top;\n",
       "    }\n",
       "\n",
       "    .dataframe thead th {\n",
       "        text-align: right;\n",
       "    }\n",
       "</style>\n",
       "<table border=\"1\" class=\"dataframe\">\n",
       "  <thead>\n",
       "    <tr style=\"text-align: right;\">\n",
       "      <th></th>\n",
       "      <th>question_type</th>\n",
       "      <th>Percentage</th>\n",
       "    </tr>\n",
       "  </thead>\n",
       "  <tbody>\n",
       "    <tr>\n",
       "      <th>0</th>\n",
       "      <td>Meaning</td>\n",
       "      <td>21.017500</td>\n",
       "    </tr>\n",
       "    <tr>\n",
       "      <th>1</th>\n",
       "      <td>Task</td>\n",
       "      <td>14.324373</td>\n",
       "    </tr>\n",
       "    <tr>\n",
       "      <th>2</th>\n",
       "      <td>Algorithm</td>\n",
       "      <td>12.935234</td>\n",
       "    </tr>\n",
       "    <tr>\n",
       "      <th>3</th>\n",
       "      <td>Logical Error</td>\n",
       "      <td>11.491972</td>\n",
       "    </tr>\n",
       "    <tr>\n",
       "      <th>4</th>\n",
       "      <td>Error</td>\n",
       "      <td>10.373444</td>\n",
       "    </tr>\n",
       "    <tr>\n",
       "      <th>5</th>\n",
       "      <td>Explanation</td>\n",
       "      <td>10.174995</td>\n",
       "    </tr>\n",
       "    <tr>\n",
       "      <th>6</th>\n",
       "      <td>Function/Syntax Usage</td>\n",
       "      <td>8.767815</td>\n",
       "    </tr>\n",
       "    <tr>\n",
       "      <th>7</th>\n",
       "      <td>Reasoning</td>\n",
       "      <td>8.641530</td>\n",
       "    </tr>\n",
       "    <tr>\n",
       "      <th>8</th>\n",
       "      <td>Code Understanding</td>\n",
       "      <td>2.273137</td>\n",
       "    </tr>\n",
       "  </tbody>\n",
       "</table>\n",
       "</div>"
      ],
      "text/plain": [
       "           question_type  Percentage\n",
       "0                Meaning   21.017500\n",
       "1                   Task   14.324373\n",
       "2              Algorithm   12.935234\n",
       "3          Logical Error   11.491972\n",
       "4                  Error   10.373444\n",
       "5            Explanation   10.174995\n",
       "6  Function/Syntax Usage    8.767815\n",
       "7              Reasoning    8.641530\n",
       "8     Code Understanding    2.273137"
      ]
     },
     "execution_count": 9,
     "metadata": {},
     "output_type": "execute_result"
    }
   ],
   "source": [
    "# Function to classify question types\n",
    "def classify_question_type(q):\n",
    "    if q.startswith(\"code_understanding\"):\n",
    "        return \"Code Understanding\"\n",
    "    elif q.startswith(\"logical\"):\n",
    "        return \"Logical Error\"\n",
    "    elif q.startswith(\"error\"):\n",
    "        return \"Error\"\n",
    "    elif q.startswith(\"usage\"):\n",
    "        return \"Function/Syntax Usage\"\n",
    "    elif q.startswith(\"algorithm\"):\n",
    "        return \"Algorithm\"\n",
    "    elif q.startswith(\"task\"):\n",
    "        return \"Task\"\n",
    "    elif q.startswith(\"reasoning\"):\n",
    "        return \"Reasoning\"\n",
    "    elif q.startswith(\"code_explain\"):\n",
    "        return \"Explanation\"\n",
    "    elif q.startswith(\"variable\"):\n",
    "        return \"Meaning\"\n",
    "    else:\n",
    "        return \"Other\"\n",
    "\n",
    "# Apply classification\n",
    "df['question_type'] = df['questionType'].apply(classify_question_type)\n",
    "\n",
    "# Compute percentages\n",
    "question_type_counts = df['question_type'].value_counts(normalize=True) * 100\n",
    "question_type_counts = question_type_counts.rename(\"Percentage\").reset_index().rename(columns={\"index\": \"Question Type\"})\n",
    "\n",
    "# Display table\n",
    "#import ace_tools as tools; tools.display_dataframe_to_user(name=\"Question Type Distribution\", dataframe=question_type_counts)\n",
    "\n",
    "# Also return the DataFrame for further inspection\n",
    "question_type_counts"
   ]
  },
  {
   "cell_type": "code",
   "execution_count": 10,
   "metadata": {
    "colab": {
     "base_uri": "https://localhost:8080/"
    },
    "id": "yRbkzhjNzkbC",
    "outputId": "d5a46df5-29d8-412c-d499-99f6e705852a"
   },
   "outputs": [
    {
     "name": "stdout",
     "output_type": "stream",
     "text": [
      "           question_type  Percentage\n",
      "0                Meaning   21.017500\n",
      "1                   Task   14.324373\n",
      "2              Algorithm   12.935234\n",
      "3          Logical Error   11.491972\n",
      "4                  Error   10.373444\n",
      "5            Explanation   10.174995\n",
      "6  Function/Syntax Usage    8.767815\n",
      "7              Reasoning    8.641530\n",
      "8     Code Understanding    2.273137\n"
     ]
    }
   ],
   "source": [
    "print(question_type_counts)"
   ]
  },
  {
   "cell_type": "code",
   "execution_count": 11,
   "metadata": {
    "colab": {
     "base_uri": "https://localhost:8080/"
    },
    "id": "2GvBtcWUzmGn",
    "outputId": "0ad0b335-387d-4e03-995c-2c1e99358c75"
   },
   "outputs": [
    {
     "name": "stdout",
     "output_type": "stream",
     "text": [
      "Index(['question_type', 'Percentage'], dtype='object')\n"
     ]
    }
   ],
   "source": [
    "# Check column names to make sure they are what we expect\n",
    "print(question_type_counts.columns)"
   ]
  },
  {
   "cell_type": "code",
   "execution_count": 14,
   "metadata": {
    "colab": {
     "base_uri": "https://localhost:8080/",
     "height": 607
    },
    "id": "CaDT_RJ6znj2",
    "outputId": "d22c9916-c415-408f-b3dd-f2b02356b3b0"
   },
   "outputs": [
    {
     "data": {
      "image/png": "[encoded data removed]",
      "text/plain": [
       "<Figure size 1000x600 with 1 Axes>"
      ]
     },
     "metadata": {},
     "output_type": "display_data"
    }
   ],
   "source": [
    " # Rename columns if necessary (optional, only if names are wrong)\n",
    "# question_type_counts.columns = [\"Question Type\", \"Percentage\"]\n",
    "\n",
    "# Plot the distribution\n",
    "plt.figure(figsize=(10, 6))\n",
    "sns.barplot(data=question_type_counts, x=\"Percentage\", y=\"question_type\", color='steelblue')\n",
    "plt.title(\"Distribution of Question Types\")\n",
    "plt.xlabel(\"Percentage\")\n",
    "plt.ylabel(\"Question Type\")\n",
    "plt.xlim(0, 100)\n",
    "plt.tight_layout()\n",
    "plt.show()"
   ]
  },
  {
   "cell_type": "code",
   "execution_count": null,
   "metadata": {},
   "outputs": [],
   "source": []
  }
 ],
 "metadata": {
  "colab": {
   "provenance": []
  },
  "kernelspec": {
   "display_name": "Python 3 (ipykernel)",
   "language": "python",
   "name": "python3"
  },
  "language_info": {
   "codemirror_mode": {
    "name": "ipython",
    "version": 3
   },
   "file_extension": ".py",
   "mimetype": "text/x-python",
   "name": "python",
   "nbconvert_exporter": "python",
   "pygments_lexer": "ipython3",
   "version": "3.11.4"
  }
 },
 "nbformat": 4,
 "nbformat_minor": 1
}
