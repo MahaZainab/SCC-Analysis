{
 "cells": [
  {
   "cell_type": "markdown",
   "metadata": {
    "id": "taxAP8peyv1W"
   },
   "source": [
    "# Pre-processing CSQ1A data"
   ]
  },
  {
   "cell_type": "code",
   "execution_count": 1,
   "metadata": {
    "colab": {
     "base_uri": "https://localhost:8080/"
    },
    "executionInfo": {
     "elapsed": 424,
     "status": "ok",
     "timestamp": 1752525517008,
     "user": {
      "displayName": "Kangyou Park",
      "userId": "18281799697544722047"
     },
     "user_tz": 300
    },
    "id": "zoZIet7FrNmg",
    "outputId": "3f6f1ce7-6ff6-43d5-b333-d46ab5c3d8b4"
   },
   "outputs": [
    {
     "name": "stdout",
     "output_type": "stream",
     "text": [
      "Converted and cleaned file saved as TESTCS1QA_dataset.json\n"
     ]
    }
   ],
   "source": [
    "import json\n",
    "import re\n",
    "\n",
    "input_path = 'train_cleaned.jsonl'\n",
    "output_path = 'TESTCS1QA_dataset.json'\n",
    "\n",
    "formatted_data = []\n",
    "\n",
    "with open(input_path, 'r', encoding='utf-8') as infile:\n",
    "    for line in infile:\n",
    "        entry = json.loads(line)\n",
    "\n",
    "        cleaned_code = entry['code'].replace('\\n', ' ')\n",
    "        cleaned_code = re.sub(r'\\s+', ' ', cleaned_code).strip()\n",
    "\n",
    "        formatted_entry = {\n",
    "            'code': cleaned_code,\n",
    "            'question': entry['question'],\n",
    "            'questionType': entry['questionType'],\n",
    "            'answer': entry['answer']\n",
    "        }\n",
    "        formatted_data.append(formatted_entry)\n",
    "\n",
    "with open(output_path, 'w', encoding='utf-8') as outfile:\n",
    "    json.dump(formatted_data, outfile, indent=4)\n",
    "\n",
    "print(f\"Converted and cleaned file saved as {output_path}\")"
   ]
  },
  {
   "cell_type": "code",
   "execution_count": null,
   "metadata": {},
   "outputs": [],
   "source": []
  }
 ],
 "metadata": {
  "colab": {
   "authorship_tag": "ABX9TyOA3H+396rnmZkAFPLX7G/o",
   "provenance": []
  },
  "kernelspec": {
   "display_name": "Python 3 (ipykernel)",
   "language": "python",
   "name": "python3"
  },
  "language_info": {
   "codemirror_mode": {
    "name": "ipython",
    "version": 3
   },
   "file_extension": ".py",
   "mimetype": "text/x-python",
   "name": "python",
   "nbconvert_exporter": "python",
   "pygments_lexer": "ipython3",
   "version": "3.11.4"
  }
 },
 "nbformat": 4,
 "nbformat_minor": 1
}
